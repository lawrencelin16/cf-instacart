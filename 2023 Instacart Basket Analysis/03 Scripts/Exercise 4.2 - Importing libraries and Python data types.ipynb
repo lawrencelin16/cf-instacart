{
 "cells": [
  {
   "cell_type": "markdown",
   "id": "763de154",
   "metadata": {},
   "source": [
    "# List of contents\n",
    "### 01. Importing libraries\n",
    "### 02. Working with Python data types"
   ]
  },
  {
   "cell_type": "markdown",
   "id": "913046af",
   "metadata": {},
   "source": [
    "# 01. Importing libraries"
   ]
  },
  {
   "cell_type": "code",
   "execution_count": 1,
   "id": "207cfbf2",
   "metadata": {},
   "outputs": [],
   "source": [
    "#Import libraries\n",
    "import pandas as pd\n",
    "import numpy as np\n",
    "import os"
   ]
  },
  {
   "cell_type": "markdown",
   "id": "c2f5644b",
   "metadata": {},
   "source": [
    "# 02. Working with Python data types"
   ]
  },
  {
   "cell_type": "code",
   "execution_count": 8,
   "id": "4eeff094",
   "metadata": {},
   "outputs": [
    {
     "data": {
      "text/plain": [
       "100"
      ]
     },
     "execution_count": 8,
     "metadata": {},
     "output_type": "execute_result"
    }
   ],
   "source": [
    "# Code 3 different ways of reaching a result of 100 by adding or subtracting numeric variables.\n",
    "x = 75 + 25\n",
    "x"
   ]
  },
  {
   "cell_type": "code",
   "execution_count": 9,
   "id": "cb284b4d",
   "metadata": {},
   "outputs": [
    {
     "name": "stdout",
     "output_type": "stream",
     "text": [
      "100\n"
     ]
    }
   ],
   "source": [
    "# Code 3 different ways of reaching a result of 100 by adding or subtracting numeric variables.\n",
    "x = 150 - 50\n",
    "print(x)"
   ]
  },
  {
   "cell_type": "code",
   "execution_count": 10,
   "id": "57a460f4",
   "metadata": {},
   "outputs": [
    {
     "name": "stdout",
     "output_type": "stream",
     "text": [
      "100\n"
     ]
    }
   ],
   "source": [
    "# Code 3 different ways of reaching a result of 100 by adding or subtracting numeric variables.\n",
    "x = 99 + 1\n",
    "print(x)"
   ]
  },
  {
   "cell_type": "code",
   "execution_count": 12,
   "id": "186deeca",
   "metadata": {},
   "outputs": [
    {
     "name": "stdout",
     "output_type": "stream",
     "text": [
      "0.25\n"
     ]
    }
   ],
   "source": [
    "# Code 2 floating-point variables and divide them by each other.\n",
    "x = 0.75\n",
    "y = 3.0\n",
    "print(x / y)"
   ]
  },
  {
   "cell_type": "code",
   "execution_count": 13,
   "id": "2909bc9c",
   "metadata": {},
   "outputs": [
    {
     "name": "stdout",
     "output_type": "stream",
     "text": [
      "complete\n"
     ]
    }
   ],
   "source": [
    "# Construct a short word made of separate strings (you’ll need to concatenate some strings!).\n",
    "a = 'com'\n",
    "b = 'plete'\n",
    "print(a + b)"
   ]
  },
  {
   "cell_type": "code",
   "execution_count": 14,
   "id": "33fa2d0e",
   "metadata": {},
   "outputs": [
    {
     "name": "stdout",
     "output_type": "stream",
     "text": [
      "Hello, I am the first sentence. Hello, I am the second sentence.\n"
     ]
    }
   ],
   "source": [
    "# Construct 2 short sentences made of separate strings.\n",
    "c = 'Hello, I am the first sentence. '\n",
    "d = 'Hello, I am the second sentence.'\n",
    "print(c + d)"
   ]
  },
  {
   "cell_type": "code",
   "execution_count": 1,
   "id": "4c5643ae",
   "metadata": {},
   "outputs": [
    {
     "name": "stdout",
     "output_type": "stream",
     "text": [
      "stringstringstringstringstringstringstringstringstringstringstringstringstringstringstringstringstringstringstringstringstringstringstringstringstringstringstringstringstringstringstringstringstringstringstringstringstringstringstringstringstringstringstringstringstringstringstringstringstringstringstringstringstringstringstringstringstringstringstringstringstringstringstringstringstringstringstringstringstringstringstringstringstringstringstringstringstringstringstringstringstringstringstringstringstringstringstringstringstringstringstringstringstringstringstringstringstringstringstringstring\n"
     ]
    }
   ],
   "source": [
    "# Bonus Task - At the bottom of your file, include a command that makes a string appear 100 times.\n",
    "string100 = 'string' * 100\n",
    "print(string100)"
   ]
  }
 ],
 "metadata": {
  "kernelspec": {
   "display_name": "Python 3 (ipykernel)",
   "language": "python",
   "name": "python3"
  },
  "language_info": {
   "codemirror_mode": {
    "name": "ipython",
    "version": 3
   },
   "file_extension": ".py",
   "mimetype": "text/x-python",
   "name": "python",
   "nbconvert_exporter": "python",
   "pygments_lexer": "ipython3",
   "version": "3.11.5"
  }
 },
 "nbformat": 4,
 "nbformat_minor": 5
}
